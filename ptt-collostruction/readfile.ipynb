{
 "cells": [
  {
   "cell_type": "code",
   "execution_count": 1,
   "metadata": {},
   "outputs": [],
   "source": [
    "import json\n"
   ]
  },
  {
   "cell_type": "code",
   "execution_count": 2,
   "metadata": {},
   "outputs": [],
   "source": [
    "with open(\"Boy-Girl-5073-5173.json\", \"r\", encoding = \"UTF-8\") as f:\n",
    "    bg_articles = json.load(f)['articles']"
   ]
  },
  {
   "cell_type": "code",
   "execution_count": 17,
   "metadata": {},
   "outputs": [],
   "source": [
    "bg_content = []\n",
    "for a in bg_articles[0:1600]:\n",
    "    bg_content.append(a['content'])"
   ]
  },
  {
   "cell_type": "code",
   "execution_count": 4,
   "metadata": {},
   "outputs": [
    {
     "output_type": "execute_result",
     "data": {
      "text/plain": [
       "1991"
      ]
     },
     "metadata": {},
     "execution_count": 4
    }
   ],
   "source": [
    "len(bg_articles)"
   ]
  },
  {
   "cell_type": "code",
   "execution_count": 12,
   "metadata": {},
   "outputs": [
    {
     "data": {
      "text/plain": [
       "'一個男生在交友軟體認識一個女生， 然後男生發現女生跟自己的朋友約砲， 決定解除交友軟體配對不再跟女生聯絡， 女生崩潰發文罵男生玻璃心宅男， 然後一堆推文和回文拼命護航女生； 不然就是開一個標題問AA制到底吵啥， 自己才是拼命開AA制論戰的人之一， 內文不外乎說支持AA制都是蘇美缸、永動機， 然後一堆推文和回文深表認同，推推推。 然後.... 你的結論是男女板仇女一條龍產業， 嘻嘻。 : Bg板被一群製造仇恨的id入侵一段時間了 : 本來不想搭理 : 結果發現直接變一條龍產業 : 一個人先發一個幻想式問題 : 女生是不是都愛錢 : 女生是不是很難AA : 女生是不是很要求男生身高 : 接著一堆男的跳出來說 : 對啊身高真的很重要，我身邊的oozx情侶因為身高所以怎樣怎樣 : 我之前看某某調查說女生在意男生身高（阿不是不相信星座跟一堆花邊調查，這個 又 : 接著就有人跑去women板發文 : 說怎麼辦啦男生身高真的很重要 : 然後底下的推文一堆 : 女的就這樣 : 幹嘛理這些女的 : 女人要求一堆，也不看看自己 : 三小的 : 靠北啊 : 這串文章從頭到尾基本都是單性別的產品 : 女生提到身高絕大部分是不要比自己矮就好 : 被講成女的要求身高要求顏值還要求有錢 : 現在大家很懂輿論操作，但這種仇女系列發文操作，bg只會變得跟women一樣，一堆假 女? : 有夠噁心 : : Sent from JPTT on my iPhone'"
      ]
     },
     "execution_count": 12,
     "metadata": {},
     "output_type": "execute_result"
    }
   ],
   "source": [
    "bg_articles[1]['content']"
   ]
  },
  {
   "cell_type": "code",
   "execution_count": 18,
   "metadata": {},
   "outputs": [],
   "source": [
    "with open('bg_content.txt', 'w', encoding='utf-8') as f:\n",
    "    for item in bg_content:\n",
    "        f.write(\"%s\\n\" % item)"
   ]
  },
  {
   "cell_type": "code",
   "execution_count": null,
   "metadata": {},
   "outputs": [],
   "source": []
  }
 ],
 "metadata": {
  "kernelspec": {
   "name": "python3",
   "display_name": "Python 3.7.4 32-bit ('pyvir': venv)",
   "metadata": {
    "interpreter": {
     "hash": "7f1fa028d3de98521a4cc9c4158219da1ec0cbfbe99841d163a07817dfa2f6fc"
    }
   }
  },
  "language_info": {
   "codemirror_mode": {
    "name": "ipython",
    "version": 3
   },
   "file_extension": ".py",
   "mimetype": "text/x-python",
   "name": "python",
   "nbconvert_exporter": "python",
   "pygments_lexer": "ipython3",
   "version": "3.7.4-final"
  }
 },
 "nbformat": 4,
 "nbformat_minor": 4
}