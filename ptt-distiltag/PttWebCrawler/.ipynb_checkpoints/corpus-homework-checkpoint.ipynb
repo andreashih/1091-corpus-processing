{
 "cells": [
  {
   "cell_type": "code",
   "execution_count": 1,
   "metadata": {},
   "outputs": [
    {
     "name": "stderr",
     "output_type": "stream",
     "text": [
      "/home/andrea/py37/lib/python3.7/site-packages/torch/cuda/__init__.py:52: UserWarning: CUDA initialization: Found no NVIDIA driver on your system. Please check that you have an NVIDIA GPU and installed a driver from http://www.nvidia.com/Download/index.aspx (Triggered internally at  /pytorch/c10/cuda/CUDAFunctions.cpp:100.)\n",
      "  return torch._C._cuda_getDeviceCount() > 0\n"
     ]
    }
   ],
   "source": [
    "import json\n",
    "import CwnGraph, DistilTag, CwnSenseTagger\n",
    "from DistilTag import DistilTag  \n",
    "from CwnSenseTagger import senseTag"
   ]
  },
  {
   "cell_type": "code",
   "execution_count": 3,
   "metadata": {},
   "outputs": [],
   "source": [
    "# read Kaohsiung.json\n",
    "with open(\"Kaohsiung.json\", \"r\", encoding = \"UTF-8\") as f:\n",
    "    kh_articles = json.load(f)['articles']\n",
    "\n",
    "kh_content = []\n",
    "for a in kh_articles:\n",
    "    kh_content.append(a['content'])\n",
    "\n",
    "# read Taipei.josn\n",
    "with open(\"Taipei.json\", \"r\", encoding = 'utf-8') as g:\n",
    "    tp_articles = json.load(g)['articles']\n",
    "    \n",
    "tp_content = []\n",
    "for a in tp_articles:\n",
    "    tp_content.append(a['content'])"
   ]
  },
  {
   "cell_type": "code",
   "execution_count": 4,
   "metadata": {},
   "outputs": [],
   "source": [
    "# 半形轉全形函數 (斷詞需要全形符號才能運作)\n",
    "def strB2Q(ustring):\n",
    "    ss = []\n",
    "    for s in ustring:\n",
    "        rstring = \"\"\n",
    "        for uchar in s:\n",
    "            inside_code = ord(uchar)\n",
    "            if inside_code == 32:\n",
    "                inside_code = 12288\n",
    "            elif (inside_code >= 33 and inside_code <= 126):\n",
    "                inside_code += 65248\n",
    "            rstring += chr(inside_code)\n",
    "        ss.append(rstring)\n",
    "    return ''.join(ss)"
   ]
  },
  {
   "cell_type": "code",
   "execution_count": 5,
   "metadata": {},
   "outputs": [],
   "source": [
    "def senseTag2(tagged):\n",
    "    out = []\n",
    "    for t in tagged:\n",
    "        try:\n",
    "            tt = senseTag([t])\n",
    "        except:\n",
    "            continue\n",
    "        out.append(tt)\n",
    "    return out"
   ]
  },
  {
   "cell_type": "code",
   "execution_count": 11,
   "metadata": {},
   "outputs": [],
   "source": [
    "import pickle\n",
    "with open(\"kh_tagged.pkl\", \"rb\") as f:\n",
    "    kh_tagged = pickle.load(f)"
   ]
  },
  {
   "cell_type": "code",
   "execution_count": 12,
   "metadata": {},
   "outputs": [
    {
     "data": {
      "text/plain": [
       "[[('筆電', 'Na'),\n",
       "  ('是', 'SHI'),\n",
       "  ('２０１５年', 'Nd'),\n",
       "  ('的', 'DE'),\n",
       "  ('ＭａｃＢｏｏｋｐｒｏ１５”', 'FW'),\n",
       "  ('，', 'COMMACATEGORY')],\n",
       " [('背板', 'Na'),\n",
       "  ('螺絲', 'Na'),\n",
       "  ('滑牙', 'Na'),\n",
       "  ('嚴重', 'VH'),\n",
       "  ('，', 'COMMACATEGORY')],\n",
       " [('套上', 'VC'),\n",
       "  ('橡皮筋', 'Na'),\n",
       "  ('也', 'D'),\n",
       "  ('救', 'VC'),\n",
       "  ('不', 'D'),\n",
       "  ('回來', 'VC'),\n",
       "  ('，', 'COMMACATEGORY')]]"
      ]
     },
     "execution_count": 12,
     "metadata": {},
     "output_type": "execute_result"
    }
   ],
   "source": [
    "kh_tagged[0:3]"
   ]
  },
  {
   "cell_type": "code",
   "execution_count": null,
   "metadata": {},
   "outputs": [],
   "source": [
    "kh_tagged_sense = senseTag2(kh_tagged)"
   ]
  },
  {
   "cell_type": "code",
   "execution_count": null,
   "metadata": {},
   "outputs": [],
   "source": [
    "def freq_tables(sense_tagged_data):\n",
    "    word_freq = {}\n",
    "    pos_freq = {}\n",
    "    sense_freq = {}\n",
    "\n",
    "    for post in sense_tagged_data:\n",
    "        for sent in post:\n",
    "            for form, pos, sense_id, sense_def in sent:\n",
    "\n",
    "                if form not in word_freq:\n",
    "                    word_freq[form] = 1\n",
    "                else:\n",
    "                    word_freq[form] += 1\n",
    "\n",
    "                word_pos = f\"{form}_{pos}\"\n",
    "                if word_pos not in pos_freq:\n",
    "                    pos_freq[word_pos] = 1\n",
    "                else:\n",
    "                    pos_freq[word_pos] += 1\n",
    "\n",
    "                word_sense = f\"{form}_{sense_id}_{sense_def}\"\n",
    "                if word_sense not in sense_freq:\n",
    "                    sense_freq[word_sense] = 1\n",
    "                else:\n",
    "                    sense_freq[word_sense] += 1\n",
    "        \n",
    "    return word_freq, pos_freq, sense_freq"
   ]
  },
  {
   "cell_type": "code",
   "execution_count": null,
   "metadata": {},
   "outputs": [],
   "source": [
    "kh_tables = freq_tables(kh_tagged_sense)\n",
    "kh_tables2 = list(tables[2].items())\n",
    "sorted(kh_tables2, reverse=True, key=lambda x: x[1])"
   ]
  }
 ],
 "metadata": {
  "kernelspec": {
   "display_name": "Python 3.7 (venv)",
   "language": "python",
   "name": "py37"
  },
  "language_info": {
   "codemirror_mode": {
    "name": "ipython",
    "version": 3
   },
   "file_extension": ".py",
   "mimetype": "text/x-python",
   "name": "python",
   "nbconvert_exporter": "python",
   "pygments_lexer": "ipython3",
   "version": "3.7.9"
  }
 },
 "nbformat": 4,
 "nbformat_minor": 4
}
