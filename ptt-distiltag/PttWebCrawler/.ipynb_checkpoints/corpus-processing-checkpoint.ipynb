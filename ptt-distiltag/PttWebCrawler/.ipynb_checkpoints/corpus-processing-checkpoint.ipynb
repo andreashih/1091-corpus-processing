{
 "cells": [
  {
   "cell_type": "code",
   "execution_count": 1,
   "metadata": {},
   "outputs": [
    {
     "name": "stdout",
     "output_type": "stream",
     "text": [
      "Collecting CwnGraph\n",
      "  Using cached CwnGraph-0.1.5-py3-none-any.whl (30 kB)\n",
      "Requirement already up-to-date: DistilTag in /home/andrea/py37/lib/python3.7/site-packages (0.2.1)\n",
      "Requirement already up-to-date: CwnSenseTagger in /home/andrea/py37/lib/python3.7/site-packages (0.1.2)\n",
      "Requirement already satisfied, skipping upgrade: gdown in /home/andrea/py37/lib/python3.7/site-packages (from CwnGraph) (3.10.2)\n",
      "Requirement already satisfied, skipping upgrade: transformers>=3.2 in /home/andrea/py37/lib/python3.7/site-packages (from DistilTag) (3.4.0)\n",
      "Requirement already satisfied, skipping upgrade: numpy in /home/andrea/py37/lib/python3.7/site-packages (from DistilTag) (1.18.2)\n",
      "Requirement already satisfied, skipping upgrade: torch>=1.6 in /home/andrea/py37/lib/python3.7/site-packages (from DistilTag) (1.7.0)\n",
      "Requirement already satisfied, skipping upgrade: tqdm in /home/andrea/py37/lib/python3.7/site-packages (from CwnSenseTagger) (4.45.0)\n",
      "Requirement already satisfied, skipping upgrade: pandas in /home/andrea/py37/lib/python3.7/site-packages (from CwnSenseTagger) (1.1.3)\n",
      "Requirement already satisfied, skipping upgrade: six in /home/andrea/py37/lib/python3.7/site-packages (from gdown->CwnGraph) (1.14.0)\n",
      "Requirement already satisfied, skipping upgrade: filelock in /home/andrea/py37/lib/python3.7/site-packages (from gdown->CwnGraph) (3.0.12)\n",
      "Requirement already satisfied, skipping upgrade: requests[socks] in /home/andrea/py37/lib/python3.7/site-packages (from gdown->CwnGraph) (2.23.0)\n",
      "Requirement already satisfied, skipping upgrade: sacremoses in /home/andrea/py37/lib/python3.7/site-packages (from transformers>=3.2->DistilTag) (0.0.43)\n",
      "Requirement already satisfied, skipping upgrade: regex!=2019.12.17 in /home/andrea/py37/lib/python3.7/site-packages (from transformers>=3.2->DistilTag) (2020.10.28)\n",
      "Requirement already satisfied, skipping upgrade: protobuf in /home/andrea/py37/lib/python3.7/site-packages (from transformers>=3.2->DistilTag) (3.11.3)\n",
      "Requirement already satisfied, skipping upgrade: tokenizers==0.9.2 in /home/andrea/py37/lib/python3.7/site-packages (from transformers>=3.2->DistilTag) (0.9.2)\n",
      "Requirement already satisfied, skipping upgrade: sentencepiece!=0.1.92 in /home/andrea/py37/lib/python3.7/site-packages (from transformers>=3.2->DistilTag) (0.1.94)\n",
      "Requirement already satisfied, skipping upgrade: packaging in /home/andrea/py37/lib/python3.7/site-packages (from transformers>=3.2->DistilTag) (20.4)\n",
      "Requirement already satisfied, skipping upgrade: dataclasses in /home/andrea/py37/lib/python3.7/site-packages (from torch>=1.6->DistilTag) (0.6)\n",
      "Requirement already satisfied, skipping upgrade: future in /home/andrea/py37/lib/python3.7/site-packages (from torch>=1.6->DistilTag) (0.18.2)\n",
      "Requirement already satisfied, skipping upgrade: typing-extensions in /home/andrea/py37/lib/python3.7/site-packages (from torch>=1.6->DistilTag) (3.7.4.3)\n",
      "Requirement already satisfied, skipping upgrade: python-dateutil>=2.7.3 in /home/andrea/py37/lib/python3.7/site-packages (from pandas->CwnSenseTagger) (2.8.1)\n",
      "Requirement already satisfied, skipping upgrade: pytz>=2017.2 in /home/andrea/py37/lib/python3.7/site-packages (from pandas->CwnSenseTagger) (2020.1)\n",
      "Requirement already satisfied, skipping upgrade: idna<3,>=2.5 in /home/andrea/py37/lib/python3.7/site-packages (from requests[socks]->gdown->CwnGraph) (2.9)\n",
      "Requirement already satisfied, skipping upgrade: certifi>=2017.4.17 in /home/andrea/py37/lib/python3.7/site-packages (from requests[socks]->gdown->CwnGraph) (2020.6.20)\n",
      "Requirement already satisfied, skipping upgrade: chardet<4,>=3.0.2 in /home/andrea/py37/lib/python3.7/site-packages (from requests[socks]->gdown->CwnGraph) (3.0.4)\n",
      "Requirement already satisfied, skipping upgrade: urllib3!=1.25.0,!=1.25.1,<1.26,>=1.21.1 in /home/andrea/py37/lib/python3.7/site-packages (from requests[socks]->gdown->CwnGraph) (1.25.8)\n",
      "Requirement already satisfied, skipping upgrade: PySocks!=1.5.7,>=1.5.6; extra == \"socks\" in /home/andrea/py37/lib/python3.7/site-packages (from requests[socks]->gdown->CwnGraph) (1.7.1)\n",
      "Requirement already satisfied, skipping upgrade: joblib in /home/andrea/py37/lib/python3.7/site-packages (from sacremoses->transformers>=3.2->DistilTag) (0.17.0)\n",
      "Requirement already satisfied, skipping upgrade: click in /home/andrea/py37/lib/python3.7/site-packages (from sacremoses->transformers>=3.2->DistilTag) (7.1.2)\n",
      "Requirement already satisfied, skipping upgrade: setuptools in /home/andrea/py37/lib/python3.7/site-packages (from protobuf->transformers>=3.2->DistilTag) (41.2.0)\n",
      "Requirement already satisfied, skipping upgrade: pyparsing>=2.0.2 in /home/andrea/py37/lib/python3.7/site-packages (from packaging->transformers>=3.2->DistilTag) (2.4.7)\n",
      "Installing collected packages: CwnGraph\n",
      "Successfully installed CwnGraph-0.1.5\n",
      "Note: you may need to restart the kernel to use updated packages.\n"
     ]
    }
   ],
   "source": [
    "pip install -U CwnGraph DistilTag CwnSenseTagger"
   ]
  },
  {
   "cell_type": "code",
   "execution_count": 1,
   "metadata": {},
   "outputs": [
    {
     "name": "stderr",
     "output_type": "stream",
     "text": [
      "/home/andrea/py37/lib/python3.7/site-packages/torch/cuda/__init__.py:52: UserWarning: CUDA initialization: Found no NVIDIA driver on your system. Please check that you have an NVIDIA GPU and installed a driver from http://www.nvidia.com/Download/index.aspx (Triggered internally at  /pytorch/c10/cuda/CUDAFunctions.cpp:100.)\n",
      "  return torch._C._cuda_getDeviceCount() > 0\n",
      "Downloading...\n",
      "From: https://drive.google.com/uc?id=1opGRw490cAizoj2JHzR8UIZME3Mc65Ze\n",
      "To: /home/andrea/.cwn_graph/cwn_graph.pyobj\n",
      "30.4MB [00:19, 1.56MB/s]\n"
     ]
    },
    {
     "name": "stdout",
     "output_type": "stream",
     "text": [
      "CwnGraph data installed.\n"
     ]
    },
    {
     "name": "stderr",
     "output_type": "stream",
     "text": [
      "Downloading...\n",
      "From: https://drive.google.com/uc?id=1AzUICPQ5MMt_IWg4JZ3mWM6vGbQkv01L\n",
      "To: /tmp/tmpsourwevgdistiltag/tagmodel.zip\n",
      "501MB [04:48, 1.74MB/s] \n"
     ]
    },
    {
     "name": "stdout",
     "output_type": "stream",
     "text": [
      "setting up model...\n",
      "DistilTag model installed.\n"
     ]
    },
    {
     "name": "stderr",
     "output_type": "stream",
     "text": [
      "Downloading...\n",
      "From: https://drive.google.com/uc?id=1xTdrqOuvLFs2ElHUmCJIcrnO3fKrbH5K\n",
      "To: /tmp/tmpoqcxxj52distiltag/cwn-wsd-model.zip\n",
      "387MB [03:26, 1.87MB/s] \n"
     ]
    },
    {
     "name": "stdout",
     "output_type": "stream",
     "text": [
      "setting up model...\n",
      "CwnSenseTagger model installed.\n"
     ]
    }
   ],
   "source": [
    "import CwnGraph, DistilTag, CwnSenseTagger\n",
    "CwnGraph.download()\n",
    "DistilTag.download()\n",
    "CwnSenseTagger.download()"
   ]
  },
  {
   "cell_type": "code",
   "execution_count": 2,
   "metadata": {},
   "outputs": [],
   "source": [
    "import json\n",
    "from DistilTag import DistilTag  \n",
    "from CwnSenseTagger import senseTag"
   ]
  },
  {
   "cell_type": "code",
   "execution_count": 3,
   "metadata": {},
   "outputs": [],
   "source": [
    "# read Kaohsiung.json\n",
    "with open(\"Kaohsiung.json\", \"r\", encoding = \"UTF-8\") as f:\n",
    "    kh_articles = json.load(f)['articles']\n",
    "\n",
    "kh_content = []\n",
    "for a in kh_articles:\n",
    "    kh_content.append(a['content'])\n",
    "\n",
    "# read Taipei.josn\n",
    "with open(\"Taipei.json\", \"r\", encoding = 'utf-8') as g:\n",
    "    tp_articles = json.load(g)['articles']\n",
    "    \n",
    "tp_content = []\n",
    "for a in tp_articles:\n",
    "    tp_content.append(a['content'])"
   ]
  },
  {
   "cell_type": "code",
   "execution_count": 4,
   "metadata": {},
   "outputs": [],
   "source": [
    "# 半形轉全形函數 (斷詞需要全形符號才能運作)\n",
    "def strB2Q(ustring):\n",
    "    ss = []\n",
    "    for s in ustring:\n",
    "        rstring = \"\"\n",
    "        for uchar in s:\n",
    "            inside_code = ord(uchar)\n",
    "            if inside_code == 32:\n",
    "                inside_code = 12288\n",
    "            elif (inside_code >= 33 and inside_code <= 126):\n",
    "                inside_code += 65248\n",
    "            rstring += chr(inside_code)\n",
    "        ss.append(rstring)\n",
    "    return ''.join(ss)"
   ]
  },
  {
   "cell_type": "code",
   "execution_count": 18,
   "metadata": {},
   "outputs": [],
   "source": [
    "kh_tagged = tagger.tag(strB2Q(kh_content))"
   ]
  },
  {
   "cell_type": "code",
   "execution_count": 49,
   "metadata": {},
   "outputs": [],
   "source": [
    "import pickle\n",
    "\n",
    "with open(\"kh_tagged.pkl\", \"wb\") as f:\n",
    "    pickle.dump(kh_tagged, f)"
   ]
  },
  {
   "cell_type": "code",
   "execution_count": 50,
   "metadata": {},
   "outputs": [],
   "source": [
    "import pickle\n",
    "with open(\"kh_tagged.pkl\", \"rb\") as f:\n",
    "    kh_tagged = pickle.load(f)"
   ]
  },
  {
   "cell_type": "code",
   "execution_count": 31,
   "metadata": {},
   "outputs": [],
   "source": [
    "def senseTag2(tagged):\n",
    "    out = []\n",
    "    for t in tagged:\n",
    "        try:\n",
    "            tt = senseTag([t])\n",
    "        except:\n",
    "            continue\n",
    "        out.append(tt)\n",
    "    return out"
   ]
  },
  {
   "cell_type": "code",
   "execution_count": 33,
   "metadata": {},
   "outputs": [],
   "source": [
    "x = senseTag2([kh_tagged[3]])"
   ]
  },
  {
   "cell_type": "code",
   "execution_count": 46,
   "metadata": {},
   "outputs": [
    {
     "name": "stdout",
     "output_type": "stream",
     "text": [
      "請問_05074101_客氣地提出問題。\n",
      "有_04013802_斷定特定對象有後述性質。\n",
      "適合_06528001_形容符合特定標準或預期。\n",
      "送修__\n",
      "的_07023402_表領屬關係，用於修飾語和中心語間。\n",
      "地方_06722201_具有特定特質所描述的，或以特定地點為參考點的區域範圍。\n",
      "嗎_07024301_表對前述命題疑問的語氣詞。\n",
      "？__\n"
     ]
    }
   ],
   "source": [
    "tables = freq_tables(x)\n",
    "#sorted([('a', 1), ('b', 7), ('b', 5) ], reverse=False, key=lambda x: x[1])\n",
    "\n",
    "tables[2].items()"
   ]
  },
  {
   "cell_type": "code",
   "execution_count": 48,
   "metadata": {},
   "outputs": [
    {
     "data": {
      "text/plain": [
       "[('請問_05074101_客氣地提出問題。', 1),\n",
       " ('有_04013802_斷定特定對象有後述性質。', 1),\n",
       " ('適合_06528001_形容符合特定標準或預期。', 1),\n",
       " ('送修__', 1),\n",
       " ('的_07023402_表領屬關係，用於修飾語和中心語間。', 1),\n",
       " ('地方_06722201_具有特定特質所描述的，或以特定地點為參考點的區域範圍。', 1),\n",
       " ('嗎_07024301_表對前述命題疑問的語氣詞。', 1),\n",
       " ('？__', 1)]"
      ]
     },
     "execution_count": 48,
     "metadata": {},
     "output_type": "execute_result"
    }
   ],
   "source": [
    "list(tables[2].items())"
   ]
  },
  {
   "cell_type": "code",
   "execution_count": 38,
   "metadata": {},
   "outputs": [],
   "source": [
    "def freq_tables(sense_tagged_data):\n",
    "    word_freq = {}\n",
    "    pos_freq = {}\n",
    "    sense_freq = {}\n",
    "\n",
    "    for post in sense_tagged_data:\n",
    "        for sent in post:\n",
    "            for form, pos, sense_id, sense_def in sent:\n",
    "\n",
    "                if form not in word_freq:\n",
    "                    word_freq[form] = 1\n",
    "                else:\n",
    "                    word_freq[form] += 1\n",
    "\n",
    "                word_pos = f\"{form}_{pos}\"\n",
    "                if word_pos not in pos_freq:\n",
    "                    pos_freq[word_pos] = 1\n",
    "                else:\n",
    "                    pos_freq[word_pos] += 1\n",
    "\n",
    "                word_sense = f\"{form}_{sense_id}_{sense_def}\"\n",
    "                if word_sense not in sense_freq:\n",
    "                    sense_freq[word_sense] = 1\n",
    "                else:\n",
    "                    sense_freq[word_sense] += 1\n",
    "        \n",
    "    return word_freq, pos_freq, sense_freq"
   ]
  },
  {
   "cell_type": "code",
   "execution_count": null,
   "metadata": {},
   "outputs": [],
   "source": [
    "kh_tagged_sense = senseTag2(kh_tagged)"
   ]
  },
  {
   "cell_type": "code",
   "execution_count": null,
   "metadata": {},
   "outputs": [],
   "source": []
  }
 ],
 "metadata": {
  "kernelspec": {
   "display_name": "Python 3.7 (venv)",
   "language": "python",
   "name": "py37"
  },
  "language_info": {
   "codemirror_mode": {
    "name": "ipython",
    "version": 3
   },
   "file_extension": ".py",
   "mimetype": "text/x-python",
   "name": "python",
   "nbconvert_exporter": "python",
   "pygments_lexer": "ipython3",
   "version": "3.7.9"
  }
 },
 "nbformat": 4,
 "nbformat_minor": 4
}
