{
 "cells": [
  {
   "cell_type": "code",
   "execution_count": 1,
   "metadata": {},
   "outputs": [
    {
     "name": "stderr",
     "output_type": "stream",
     "text": [
      "/home/andrea/py37/lib/python3.7/site-packages/torch/cuda/__init__.py:52: UserWarning: CUDA initialization: Found no NVIDIA driver on your system. Please check that you have an NVIDIA GPU and installed a driver from http://www.nvidia.com/Download/index.aspx (Triggered internally at  /pytorch/c10/cuda/CUDAFunctions.cpp:100.)\n",
      "  return torch._C._cuda_getDeviceCount() > 0\n"
     ]
    }
   ],
   "source": [
    "import json\n",
    "import CwnGraph, DistilTag, CwnSenseTagger\n",
    "from DistilTag import DistilTag  \n",
    "from CwnSenseTagger import senseTag"
   ]
  },
  {
   "cell_type": "code",
   "execution_count": 3,
   "metadata": {},
   "outputs": [],
   "source": [
    "# read Kaohsiung.json\n",
    "with open(\"Kaohsiung.json\", \"r\", encoding = \"UTF-8\") as f:\n",
    "    kh_articles = json.load(f)['articles']\n",
    "\n",
    "kh_content = []\n",
    "for a in kh_articles:\n",
    "    kh_content.append(a['content'])\n",
    "\n",
    "# read Taipei.josn\n",
    "with open(\"Taipei.json\", \"r\", encoding = 'utf-8') as g:\n",
    "    tp_articles = json.load(g)['articles']\n",
    "    \n",
    "tp_content = []\n",
    "for a in tp_articles:\n",
    "    tp_content.append(a['content'])"
   ]
  },
  {
   "cell_type": "code",
   "execution_count": 4,
   "metadata": {},
   "outputs": [],
   "source": [
    "# 半形轉全形函數 (斷詞需要全形符號才能運作)\n",
    "def strB2Q(ustring):\n",
    "    ss = []\n",
    "    for s in ustring:\n",
    "        rstring = \"\"\n",
    "        for uchar in s:\n",
    "            inside_code = ord(uchar)\n",
    "            if inside_code == 32:\n",
    "                inside_code = 12288\n",
    "            elif (inside_code >= 33 and inside_code <= 126):\n",
    "                inside_code += 65248\n",
    "            rstring += chr(inside_code)\n",
    "        ss.append(rstring)\n",
    "    return ''.join(ss)"
   ]
  },
  {
   "cell_type": "code",
   "execution_count": 5,
   "metadata": {},
   "outputs": [],
   "source": [
    "# 定義 senseTag2 函數\n",
    "def senseTag2(tagged):\n",
    "    out = []\n",
    "    for t in tagged:\n",
    "        try:\n",
    "            tt = senseTag([t])\n",
    "        except:\n",
    "            continue\n",
    "        out.append(tt)\n",
    "    return out"
   ]
  },
  {
   "cell_type": "code",
   "execution_count": 20,
   "metadata": {},
   "outputs": [],
   "source": [
    "# sense tag Kaohsiung data\n",
    "tagger = DistilTag()\n",
    "kh_tagged = tagger.tag(strB2Q(kh_content))\n",
    "kh_tagged_sense = senseTag2(kh_tagged)"
   ]
  },
  {
   "cell_type": "code",
   "execution_count": 43,
   "metadata": {},
   "outputs": [],
   "source": [
    "# sense tag Taipei data\n",
    "tp_tagged = tagger.tag(strB2Q(tp_content))\n",
    "tp_tagged_sense = senseTag2(tp_tagged)"
   ]
  },
  {
   "cell_type": "code",
   "execution_count": 41,
   "metadata": {},
   "outputs": [],
   "source": [
    "# save tagged data\n",
    "with open(\"kh_tagged.pkl\", \"wb\") as f:\n",
    "    pickle.dump(kh_tagged, f)\n",
    "with open(\"kh_tagged_sense.pkl\", \"wb\") as f:\n",
    "    pickle.dump(kh_tagged_sense, f)\n",
    "with open(\"tp_tagged.pkl\", \"wb\") as f:\n",
    "    pickle.dump(tp_tagged, f)\n",
    "with open(\"tp_tagged_sense.pkl\", \"wb\") as f:\n",
    "    pickle.dump(tp_tagged_sense, f)"
   ]
  }
 ],
 "metadata": {
  "kernelspec": {
   "display_name": "Python 3.7 (venv)",
   "language": "python",
   "name": "py37"
  },
  "language_info": {
   "codemirror_mode": {
    "name": "ipython",
    "version": 3
   },
   "file_extension": ".py",
   "mimetype": "text/x-python",
   "name": "python",
   "nbconvert_exporter": "python",
   "pygments_lexer": "ipython3",
   "version": "3.7.9"
  }
 },
 "nbformat": 4,
 "nbformat_minor": 4
}
